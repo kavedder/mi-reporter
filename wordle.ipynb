{
 "cells": [
  {
   "cell_type": "code",
   "execution_count": 3,
   "id": "03defb0e",
   "metadata": {},
   "outputs": [
    {
     "name": "stdout",
     "output_type": "stream",
     "text": [
      "1\n",
      "1\n",
      "fluff\n"
     ]
    }
   ],
   "source": [
    "with open('wordlist.txt', 'r') as infi:\n",
    "    words = [w.strip() for w in infi.readlines()] # if len(w.strip()) == 5 and not w[0].isupper()]\n",
    "    \n",
    "#with open('/usr/share/dict/words', 'r') as infi:\n",
    "#    words = [w.strip() for w in infi.readlines() if len(w.strip()) == 5 and not w[0].isupper()]\n",
    "\n",
    "    \n",
    "# exclude\n",
    "valid = [w for w in words if not set(w).intersection(set('piosacteng'))]\n",
    "#print(len(valid))\n",
    "\n",
    "# include\n",
    "# must_include = set('u')\n",
    "# valid = [w for w in valid if len(set(w).intersection(must_include)) == len(must_include)]\n",
    "#print(len(valid))\n",
    "\n",
    "pos = '''\n",
    "f, 1\n",
    "l, 2\n",
    "u, 3\n",
    "'''\n",
    "neg = '''\n",
    "u, 4\n",
    "'''\n",
    "\n",
    "def read_knowledge(s):\n",
    "    return [(k.strip(), int(v.strip()) - 1) for k, v in [l.split(',') for l in s.split('\\n') if l.strip()]]\n",
    "\n",
    "pos_positions = read_knowledge(pos)\n",
    "neg_positions = read_knowledge(neg)\n",
    "\n",
    "for l, p in pos_positions:\n",
    "    valid = [w for w in valid if w[p] == l]\n",
    "print(len(valid))\n",
    "\n",
    "for l, p in neg_positions:\n",
    "    valid = [w for w in valid if w[p] != l]\n",
    "print(len(valid))\n",
    "    \n",
    "for w in valid:\n",
    "    print(w)"
   ]
  },
  {
   "cell_type": "code",
   "execution_count": null,
   "id": "ab91c801",
   "metadata": {},
   "outputs": [],
   "source": []
  },
  {
   "cell_type": "code",
   "execution_count": null,
   "id": "fcbc87f7",
   "metadata": {},
   "outputs": [],
   "source": []
  },
  {
   "cell_type": "code",
   "execution_count": null,
   "id": "d6209fcf",
   "metadata": {},
   "outputs": [],
   "source": []
  },
  {
   "cell_type": "code",
   "execution_count": null,
   "id": "e078d3e1",
   "metadata": {},
   "outputs": [],
   "source": []
  },
  {
   "cell_type": "code",
   "execution_count": 11,
   "id": "fba66c56",
   "metadata": {},
   "outputs": [
    {
     "data": {
      "text/plain": [
       "[('o', 1), ('o', 2), ('o', 3)]"
      ]
     },
     "execution_count": 11,
     "metadata": {},
     "output_type": "execute_result"
    }
   ],
   "source": [
    "neg = '''\n",
    "o, 2\n",
    "o, 3\n",
    "o, 4'''\n",
    "\n",
    "def read_knowledge(s):\n",
    "    return [(k.strip(), int(v.strip()) - 1) for k, v in [l.split(',') for l in s.split('\\n') if l.strip()]]\n",
    "\n",
    "read_knowledge(neg)"
   ]
  },
  {
   "cell_type": "code",
   "execution_count": null,
   "id": "749d4d75",
   "metadata": {},
   "outputs": [],
   "source": []
  },
  {
   "cell_type": "code",
   "execution_count": null,
   "id": "113fae56",
   "metadata": {},
   "outputs": [],
   "source": []
  },
  {
   "cell_type": "code",
   "execution_count": null,
   "id": "74a788d9",
   "metadata": {},
   "outputs": [],
   "source": []
  },
  {
   "cell_type": "code",
   "execution_count": null,
   "id": "97df4ab3",
   "metadata": {},
   "outputs": [],
   "source": []
  },
  {
   "cell_type": "code",
   "execution_count": null,
   "id": "437f4824",
   "metadata": {},
   "outputs": [],
   "source": []
  },
  {
   "cell_type": "code",
   "execution_count": null,
   "id": "3ed6f8f5",
   "metadata": {},
   "outputs": [],
   "source": []
  },
  {
   "cell_type": "code",
   "execution_count": null,
   "id": "769d86aa",
   "metadata": {},
   "outputs": [],
   "source": []
  }
 ],
 "metadata": {
  "kernelspec": {
   "display_name": "Python 3",
   "language": "python",
   "name": "python3"
  },
  "language_info": {
   "codemirror_mode": {
    "name": "ipython",
    "version": 3
   },
   "file_extension": ".py",
   "mimetype": "text/x-python",
   "name": "python",
   "nbconvert_exporter": "python",
   "pygments_lexer": "ipython3",
   "version": "3.9.1"
  }
 },
 "nbformat": 4,
 "nbformat_minor": 5
}
