{
 "cells": [
  {
   "cell_type": "code",
   "execution_count": 1,
   "id": "03defb0e",
   "metadata": {},
   "outputs": [
    {
     "name": "stdout",
     "output_type": "stream",
     "text": [
      "madam\n"
     ]
    }
   ],
   "source": [
    "with open('wordlist.txt', 'r') as infi:\n",
    "    words = [w.strip() for w in infi.readlines()] \n",
    "\n",
    "    \n",
    "exclude = '''\n",
    "piousre\n",
    "'''\n",
    "pos = '''\n",
    "a, 4\n",
    "m, 5\n",
    "'''\n",
    "neg = '''\n",
    "d, 1\n",
    "'''\n",
    "\n",
    "valid = [w for w in words if not set(w).intersection(set(exclude.strip()))]\n",
    "\n",
    "\n",
    "def read_knowledge(s):\n",
    "    return [(k.strip(), int(v.strip()) - 1) for k, v in [l.split(',') for l in s.split('\\n') if l.strip()]]\n",
    "\n",
    "pos_positions = read_knowledge(pos)\n",
    "neg_positions = read_knowledge(neg)\n",
    "\n",
    "must_include = [l for l, p in pos_positions] + [l for l, p in neg_positions]\n",
    "valid = [w for w in valid if len(set(w).intersection(must_include)) == len(must_include)]\n",
    "\n",
    "for l, p in pos_positions:\n",
    "    valid = [w for w in valid if w[p] == l]\n",
    "\n",
    "for l, p in neg_positions:\n",
    "    valid = [w for w in valid if w[p] != l]\n",
    "    \n",
    "for w in valid:\n",
    "    print(w)"
   ]
  }
 ],
 "metadata": {
  "kernelspec": {
   "display_name": "Python 3 (ipykernel)",
   "language": "python",
   "name": "python3"
  },
  "language_info": {
   "codemirror_mode": {
    "name": "ipython",
    "version": 3
   },
   "file_extension": ".py",
   "mimetype": "text/x-python",
   "name": "python",
   "nbconvert_exporter": "python",
   "pygments_lexer": "ipython3",
   "version": "3.10.5"
  }
 },
 "nbformat": 4,
 "nbformat_minor": 5
}
