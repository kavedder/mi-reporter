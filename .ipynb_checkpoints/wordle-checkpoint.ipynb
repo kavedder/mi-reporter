{
 "cells": [
  {
   "cell_type": "code",
   "execution_count": 7,
   "id": "03defb0e",
   "metadata": {},
   "outputs": [],
   "source": [
    "with open('/usr/share/dict/words', 'r') as infi:\n",
    "    words = [w.strip() for w in infi.readlines() if len(w.strip()) == 5 and not w[0].isupper()]\n",
    "    \n",
    "# exclude\n",
    "valid = [w for w in words if not set(w).intersection(set('irats'))]\n",
    "\n",
    "# include\n",
    "must_include = set('epoy')\n",
    "valid = [w for w in valid if len(set(w).intersection(must_include)) == len(must_include)]\n",
    "\n",
    "# positional 1\n",
    "valid = [w for w in valid if w[-1] == 'y']\n",
    "\n",
    "valid = [w for w in valid if w[0] != 'p' and w[1] != 'o' and w[2] != 'e']\n",
    "\n",
    "for w in valid:\n",
    "    print(w)"
   ]
  },
  {
   "cell_type": "code",
   "execution_count": null,
   "id": "3ed6f8f5",
   "metadata": {},
   "outputs": [],
   "source": []
  },
  {
   "cell_type": "code",
   "execution_count": null,
   "id": "769d86aa",
   "metadata": {},
   "outputs": [],
   "source": []
  }
 ],
 "metadata": {
  "kernelspec": {
   "display_name": "Python 3 (ipykernel)",
   "language": "python",
   "name": "python3"
  },
  "language_info": {
   "codemirror_mode": {
    "name": "ipython",
    "version": 3
   },
   "file_extension": ".py",
   "mimetype": "text/x-python",
   "name": "python",
   "nbconvert_exporter": "python",
   "pygments_lexer": "ipython3",
   "version": "3.7.4"
  }
 },
 "nbformat": 4,
 "nbformat_minor": 5
}
