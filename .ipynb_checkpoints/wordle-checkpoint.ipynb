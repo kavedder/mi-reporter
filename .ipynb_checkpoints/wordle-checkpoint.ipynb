{
 "cells": [
  {
   "cell_type": "code",
   "execution_count": 7,
   "id": "03defb0e",
   "metadata": {},
   "outputs": [
    {
     "name": "stdout",
     "output_type": "stream",
     "text": [
      "askew\n"
     ]
    }
   ],
   "source": [
    "with open('wordlist.txt', 'r') as infi:\n",
    "    words = [w.strip() for w in infi.readlines()] # if len(w.strip()) == 5 and not w[0].isupper()]\n",
    "    \n",
    "# exclude\n",
    "valid = [w for w in words if not set(w).intersection(set('irtjnhpd'))]\n",
    "\n",
    "# include\n",
    "must_include = set('aes')\n",
    "valid = [w for w in valid if len(set(w).intersection(must_include)) == len(must_include)]\n",
    "\n",
    "# positional 1\n",
    "valid = [w for w in valid if w[-2] == 'e']\n",
    "\n",
    "valid = [w for w in valid if w[0] != 's' and w[1] != 'a' and w[1] != 'e' and w[2] != 'a' \\\n",
    "         and w[2] != 's' and w[-1] != 'e' and w[-1] != 's']\n",
    "\n",
    "for w in valid:\n",
    "    print(w)"
   ]
  },
  {
   "cell_type": "code",
   "execution_count": null,
   "id": "585219b2",
   "metadata": {},
   "outputs": [],
   "source": []
  },
  {
   "cell_type": "code",
   "execution_count": null,
   "id": "4c7ca916",
   "metadata": {},
   "outputs": [],
   "source": []
  },
  {
   "cell_type": "code",
   "execution_count": null,
   "id": "f3800307",
   "metadata": {},
   "outputs": [],
   "source": []
  },
  {
   "cell_type": "code",
   "execution_count": null,
   "id": "1932a269",
   "metadata": {},
   "outputs": [],
   "source": []
  },
  {
   "cell_type": "code",
   "execution_count": null,
   "id": "cb667e5b",
   "metadata": {},
   "outputs": [],
   "source": []
  },
  {
   "cell_type": "code",
   "execution_count": null,
   "id": "3ed6f8f5",
   "metadata": {},
   "outputs": [],
   "source": []
  },
  {
   "cell_type": "code",
   "execution_count": null,
   "id": "769d86aa",
   "metadata": {},
   "outputs": [],
   "source": []
  }
 ],
 "metadata": {
  "kernelspec": {
   "display_name": "Python 3",
   "language": "python",
   "name": "python3"
  },
  "language_info": {
   "codemirror_mode": {
    "name": "ipython",
    "version": 3
   },
   "file_extension": ".py",
   "mimetype": "text/x-python",
   "name": "python",
   "nbconvert_exporter": "python",
   "pygments_lexer": "ipython3",
   "version": "3.9.1"
  }
 },
 "nbformat": 4,
 "nbformat_minor": 5
}
